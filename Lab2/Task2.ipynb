{
 "cells": [
  {
   "cell_type": "code",
   "execution_count": 9,
   "id": "90dcd1a2",
   "metadata": {},
   "outputs": [],
   "source": [
    "import numpy as np \n",
    "V = np.array([3, 1, 8, 24, 6]) \n",
    "RowV = np.array([[3, 1, 8, 24, 6]]) \n",
    "ColV = np.array([[3], [1], [8], [24], [6]]) \n",
    "M = np.array([10, 5, 7, 14, 2, 9, 4, 8, 20, 17, 1, 3, 36, 15, 11]).reshape(3,5) \n",
    "\n",
    "\n",
    "def foo(a,b):\n",
    "    print(a + b) \n",
    "    print(a - b) \n",
    "    print(a / b) \n",
    "    print(a * b) \n",
    "    print(np.multiply(a , b)) \n",
    "    print(np.dot(a,b))"
   ]
  },
  {
   "cell_type": "code",
   "execution_count": 10,
   "id": "4b0ab731",
   "metadata": {},
   "outputs": [
    {
     "name": "stdout",
     "output_type": "stream",
     "text": [
      "[[13  6 15 38  8]\n",
      " [12  5 16 44 23]\n",
      " [ 4  4 44 39 17]]\n",
      "[[  7   4  -1 -10  -4]\n",
      " [  6   3   0  -4  11]\n",
      " [ -2   2  28  -9   5]]\n",
      "[[3.33333333 5.         0.875      0.58333333 0.33333333]\n",
      " [3.         4.         1.         0.83333333 2.83333333]\n",
      " [0.33333333 3.         4.5        0.625      1.83333333]]\n",
      "[[ 30   5  56 336  12]\n",
      " [ 27   4  64 480 102]\n",
      " [  3   3 288 360  66]]\n",
      "[[ 30   5  56 336  12]\n",
      " [ 27   4  64 480 102]\n",
      " [  3   3 288 360  66]]\n",
      "[439 677 720]\n"
     ]
    }
   ],
   "source": [
    "foo(M,V)"
   ]
  },
  {
   "cell_type": "code",
   "execution_count": 25,
   "id": "1cf28076",
   "metadata": {},
   "outputs": [
    {
     "name": "stdout",
     "output_type": "stream",
     "text": [
      "operands could not be broadcast together with shapes (3,5) (5,1) \n",
      "[[13  6 15 38  8]\n",
      " [12  5 16 44 23]\n",
      " [ 4  4 44 39 17]]\n",
      "[[  7   4  -1 -10  -4]\n",
      " [  6   3   0  -4  11]\n",
      " [ -2   2  28  -9   5]]\n",
      "[[3.33333333 5.         0.875      0.58333333 0.33333333]\n",
      " [3.         4.         1.         0.83333333 2.83333333]\n",
      " [0.33333333 3.         4.5        0.625      1.83333333]]\n",
      "[[ 30   5  56 336  12]\n",
      " [ 27   4  64 480 102]\n",
      " [  3   3 288 360  66]]\n",
      "[[ 30   5  56 336  12]\n",
      " [ 27   4  64 480 102]\n",
      " [  3   3 288 360  66]]\n",
      "[[439]\n",
      " [677]\n",
      " [720]]\n"
     ]
    }
   ],
   "source": [
    "try:\n",
    "    foo(M,ColV)\n",
    "except Exception as e:\n",
    "    print(e)\n",
    "\n",
    "a = M\n",
    "b = ColV\n",
    "\n",
    "print(a + b.T) \n",
    "print(a - b.T) \n",
    "print(a / b.T) \n",
    "print(a * b.T) \n",
    "\n",
    "print(np.multiply(a , b.T)) \n",
    "print(np.dot(a,b))"
   ]
  },
  {
   "cell_type": "code",
   "execution_count": 12,
   "id": "44206bf8",
   "metadata": {},
   "outputs": [
    {
     "name": "stdout",
     "output_type": "stream",
     "text": [
      "[[13  6 15 38  8]\n",
      " [12  5 16 44 23]\n",
      " [ 4  4 44 39 17]]\n",
      "[[  7   4  -1 -10  -4]\n",
      " [  6   3   0  -4  11]\n",
      " [ -2   2  28  -9   5]]\n",
      "[[3.33333333 5.         0.875      0.58333333 0.33333333]\n",
      " [3.         4.         1.         0.83333333 2.83333333]\n",
      " [0.33333333 3.         4.5        0.625      1.83333333]]\n",
      "[[ 30   5  56 336  12]\n",
      " [ 27   4  64 480 102]\n",
      " [  3   3 288 360  66]]\n",
      "[[ 30   5  56 336  12]\n",
      " [ 27   4  64 480 102]\n",
      " [  3   3 288 360  66]]\n"
     ]
    },
    {
     "ename": "ValueError",
     "evalue": "shapes (3,5) and (1,5) not aligned: 5 (dim 1) != 1 (dim 0)",
     "output_type": "error",
     "traceback": [
      "\u001b[0;31m---------------------------------------------------------------------------\u001b[0m",
      "\u001b[0;31mValueError\u001b[0m                                Traceback (most recent call last)",
      "Cell \u001b[0;32mIn[12], line 1\u001b[0m\n\u001b[0;32m----> 1\u001b[0m foo(M,RowV)\n",
      "Cell \u001b[0;32mIn[9], line 14\u001b[0m, in \u001b[0;36mfoo\u001b[0;34m(a, b)\u001b[0m\n\u001b[1;32m     12\u001b[0m \u001b[39mprint\u001b[39m(a \u001b[39m*\u001b[39m b) \n\u001b[1;32m     13\u001b[0m \u001b[39mprint\u001b[39m(np\u001b[39m.\u001b[39mmultiply(a , b)) \n\u001b[0;32m---> 14\u001b[0m \u001b[39mprint\u001b[39m(np\u001b[39m.\u001b[39;49mdot(a,b))\n",
      "File \u001b[0;32m<__array_function__ internals>:180\u001b[0m, in \u001b[0;36mdot\u001b[0;34m(*args, **kwargs)\u001b[0m\n",
      "\u001b[0;31mValueError\u001b[0m: shapes (3,5) and (1,5) not aligned: 5 (dim 1) != 1 (dim 0)"
     ]
    }
   ],
   "source": [
    "foo(M,RowV)"
   ]
  },
  {
   "cell_type": "code",
   "execution_count": 13,
   "id": "f318ec85",
   "metadata": {},
   "outputs": [
    {
     "name": "stdout",
     "output_type": "stream",
     "text": [
      "[[10  9  1]\n",
      " [ 5  4  3]\n",
      " [ 7  8 36]\n",
      " [14 20 15]\n",
      " [ 2 17 11]]\n",
      "[[20 10 14 28  4]\n",
      " [18  8 16 40 34]\n",
      " [ 2  6 72 30 22]]\n",
      "[[0 0 0 0 0]\n",
      " [0 0 0 0 0]\n",
      " [0 0 0 0 0]]\n",
      "[[ 100   25   49  196    4]\n",
      " [  81   16   64  400  289]\n",
      " [   1    9 1296  225  121]]\n",
      "[[1. 1. 1. 1. 1.]\n",
      " [1. 1. 1. 1. 1.]\n",
      " [1. 1. 1. 1. 1.]]\n",
      "[[ 100   25   49  196    4]\n",
      " [  81   16   64  400  289]\n",
      " [   1    9 1296  225  121]]\n"
     ]
    },
    {
     "ename": "ValueError",
     "evalue": "operands could not be broadcast together with shapes (3,5) (5,3) ",
     "output_type": "error",
     "traceback": [
      "\u001b[0;31m---------------------------------------------------------------------------\u001b[0m",
      "\u001b[0;31mValueError\u001b[0m                                Traceback (most recent call last)",
      "Cell \u001b[0;32mIn[13], line 7\u001b[0m\n\u001b[1;32m      5\u001b[0m \u001b[39mprint\u001b[39m(M \u001b[39m/\u001b[39m M) \n\u001b[1;32m      6\u001b[0m \u001b[39mprint\u001b[39m(np\u001b[39m.\u001b[39mmultiply(M,M))\n\u001b[0;32m----> 7\u001b[0m \u001b[39mprint\u001b[39m(np\u001b[39m.\u001b[39;49mmultiply(M,M\u001b[39m.\u001b[39;49mT))\n\u001b[1;32m      8\u001b[0m \u001b[39mprint\u001b[39m(np\u001b[39m.\u001b[39mdot(M,M))\n\u001b[1;32m      9\u001b[0m \u001b[39mprint\u001b[39m(np\u001b[39m.\u001b[39mdot(M,M\u001b[39m.\u001b[39mT))\n",
      "\u001b[0;31mValueError\u001b[0m: operands could not be broadcast together with shapes (3,5) (5,3) "
     ]
    }
   ],
   "source": [
    "print(M.T) \n",
    "print(M + M) \n",
    "print(M - M) \n",
    "print(M * M) \n",
    "print(M / M) \n",
    "print(np.multiply(M,M))\n",
    "print(np.multiply(M,M.T))\n",
    "print(np.dot(M,M))\n",
    "print(np.dot(M,M.T))"
   ]
  },
  {
   "cell_type": "code",
   "execution_count": null,
   "id": "59672e56",
   "metadata": {},
   "outputs": [],
   "source": []
  }
 ],
 "metadata": {
  "kernelspec": {
   "display_name": "Python 3.10.6 ('base')",
   "language": "python",
   "name": "python3"
  },
  "language_info": {
   "codemirror_mode": {
    "name": "ipython",
    "version": 3
   },
   "file_extension": ".py",
   "mimetype": "text/x-python",
   "name": "python",
   "nbconvert_exporter": "python",
   "pygments_lexer": "ipython3",
   "version": "3.10.6"
  },
  "vscode": {
   "interpreter": {
    "hash": "c6e4e9f98eb68ad3b7c296f83d20e6de614cb42e90992a65aa266555a3137d0d"
   }
  }
 },
 "nbformat": 4,
 "nbformat_minor": 5
}
