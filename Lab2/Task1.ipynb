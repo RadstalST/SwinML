{
 "cells": [
  {
   "cell_type": "markdown",
   "id": "2a78e9c4",
   "metadata": {},
   "source": [
    "# Task 1\n",
    "## Name the basic data types in Python. \n",
    "```python\n",
    "str\n",
    "int\n",
    "float\n",
    "bool\n",
    "list \n",
    "tuple\n",
    "set\n",
    "```\n",
    "## What is the major difference between list (data type) and tuple (data type)? \n",
    "\n",
    "list is mutable and tuple is not.\n",
    "## What’s the major difference between a variable in Python and that in the other \n",
    "programming language(s) you are familiar with, if any?\n",
    "\n",
    ">python got dynamic typing which means you can freely assign anything to a variable\n",
    "\n",
    "## List different ways of defining a string literal and describe the uniqueness of different ways, if any. \n",
    "```python\n",
    "a = 'single quote'\n",
    "b = \"double quote\"\n",
    "c = \"\"\"\n",
    "    tripple quote\n",
    "\"\"\"#used for block of text containing newline without the useage of special character \\n or \\l\n",
    "```\n",
    "\n",
    "## How to define a function in Python? What is the difference between the way to define a function in Python and that in the other programming language(s) you are familiar with, if any? \n",
    "\n",
    "### python\n",
    "```python\n",
    "def pythonFunction(param):\n",
    "    pass\n",
    "\n",
    "```\n",
    "### c++\n",
    "```c++\n",
    "void cppFunction(int:a){\n",
    "    // do nothing\n",
    "}\n",
    "```\n",
    "\n",
    "python uses dynamic typing instead of fixed typing\n",
    "## How can we make some input parameter(s) of a function to become optional? \n",
    "by define default value/ named parameters use args, kwargs\n",
    "\n",
    "\n",
    "\n"
   ]
  },
  {
   "cell_type": "code",
   "execution_count": 16,
   "id": "fd2ffe62",
   "metadata": {},
   "outputs": [
    {
     "name": "stdout",
     "output_type": "stream",
     "text": [
      "(1, 2, 3, 5, 6, 7, 11)\n",
      "0 1\n",
      "1 2\n",
      "2 3\n",
      "3 5\n",
      "4 6\n",
      "5 7\n",
      "6 11\n",
      "{'a': 1, 'b': 2}\n"
     ]
    }
   ],
   "source": [
    "def pythonOptionalArgsFunction(*args):\n",
    "    print(args)\n",
    "    for i in range(len(args)):\n",
    "        print(i,args[i])\n",
    "\n",
    "def pythonOptionalKwargsFunction(**kwargs):\n",
    "    print(kwargs)\n",
    "    \n",
    "\n",
    "\n",
    "pythonOptionalArgsFunction(1,2,3,5,6,7,11)\n",
    "pythonOptionalKwargsFunction(a=1,b=2)\n",
    "\n",
    "\n",
    "\n",
    "\n"
   ]
  },
  {
   "cell_type": "markdown",
   "id": "9e1c3864",
   "metadata": {},
   "source": [
    "## How to check the class of an object? How to use the attributes and methods of an object in Python, e.g., in the context of a string object \"Knowledge\"? "
   ]
  },
  {
   "cell_type": "code",
   "execution_count": 17,
   "id": "f20ff718",
   "metadata": {},
   "outputs": [
    {
     "name": "stdout",
     "output_type": "stream",
     "text": [
      "<class 'str'>\n",
      "['__add__', '__class__', '__contains__', '__delattr__', '__dir__', '__doc__', '__eq__', '__format__', '__ge__', '__getattribute__', '__getitem__', '__getnewargs__', '__gt__', '__hash__', '__init__', '__init_subclass__', '__iter__', '__le__', '__len__', '__lt__', '__mod__', '__mul__', '__ne__', '__new__', '__reduce__', '__reduce_ex__', '__repr__', '__rmod__', '__rmul__', '__setattr__', '__sizeof__', '__str__', '__subclasshook__', 'capitalize', 'casefold', 'center', 'count', 'encode', 'endswith', 'expandtabs', 'find', 'format', 'format_map', 'index', 'isalnum', 'isalpha', 'isascii', 'isdecimal', 'isdigit', 'isidentifier', 'islower', 'isnumeric', 'isprintable', 'isspace', 'istitle', 'isupper', 'join', 'ljust', 'lower', 'lstrip', 'maketrans', 'partition', 'removeprefix', 'removesuffix', 'replace', 'rfind', 'rindex', 'rjust', 'rpartition', 'rsplit', 'rstrip', 'split', 'splitlines', 'startswith', 'strip', 'swapcase', 'title', 'translate', 'upper', 'zfill']\n"
     ]
    },
    {
     "data": {
      "text/plain": [
       "True"
      ]
     },
     "execution_count": 17,
     "metadata": {},
     "output_type": "execute_result"
    }
   ],
   "source": [
    "example_str = \"Knowledge\"\n",
    "print(type(example_str))\n",
    "print(dir(example_str))\n",
    "example_str.isascii()"
   ]
  },
  {
   "cell_type": "markdown",
   "id": "6a77c63b",
   "metadata": {},
   "source": []
  },
  {
   "cell_type": "code",
   "execution_count": null,
   "id": "aa7e98be",
   "metadata": {},
   "outputs": [],
   "source": [
    "#function to get days to next birthday\n",
    "def nextBirthday(month,day):\n",
    "    "
   ]
  }
 ],
 "metadata": {
  "kernelspec": {
   "display_name": "Python 3.10.6 ('base')",
   "language": "python",
   "name": "python3"
  },
  "language_info": {
   "codemirror_mode": {
    "name": "ipython",
    "version": 3
   },
   "file_extension": ".py",
   "mimetype": "text/x-python",
   "name": "python",
   "nbconvert_exporter": "python",
   "pygments_lexer": "ipython3",
   "version": "3.10.6"
  },
  "vscode": {
   "interpreter": {
    "hash": "c6e4e9f98eb68ad3b7c296f83d20e6de614cb42e90992a65aa266555a3137d0d"
   }
  }
 },
 "nbformat": 4,
 "nbformat_minor": 5
}
